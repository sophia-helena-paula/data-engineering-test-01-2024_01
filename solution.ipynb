{
 "cells": [
  {
   "cell_type": "code",
   "execution_count": 1,
   "metadata": {},
   "outputs": [],
   "source": [
    "from pyspark import SparkConf\n",
    "from pyspark.sql import SparkSession\n",
    "from pyspark.sql.functions import *\n",
    "from pyspark.sql.window import Window\n",
    "#import os\n",
    "#import boto3\n",
    "#from utils.config import AWS_ACCESS_KEY_ID, AWS_SECRET_ACCESS_KEY, S3_BUCKET\n",
    "\n",
    "spark = SparkSession.builder.appName(\"martech_test\").getOrCreate()"
   ]
  },
  {
   "cell_type": "code",
   "execution_count": 2,
   "metadata": {},
   "outputs": [],
   "source": [
    "'''\n",
    "# S3 client\n",
    "s3 = boto3.client(\n",
    "    \"s3\",\n",
    "    aws_access_key_id=AWS_ACCESS_KEY_ID,\n",
    "    aws_secret_access_key=AWS_SECRET_ACCESS_KEY,\n",
    ")\n",
    "\n",
    "# List of S3 object keys to download\n",
    "s3_object_keys = [\n",
    "    \"data/abi_bus_case1_beverage_channel_group_20210726.csv\",\n",
    "    \"data/abi_bus_case1_beverage_sales_20210726.csv\",\n",
    "]\n",
    "\n",
    "# Download each file from S3\n",
    "for s3_object_key in s3_object_keys:\n",
    "    local_path = os.path.join(\"s3_data\", os.path.basename(s3_object_key))\n",
    "    s3.download_file(S3_BUCKET, s3_object_key, local_path)\n",
    "'''"
   ]
  },
  {
   "cell_type": "markdown",
   "metadata": {},
   "source": [
    "1 - Build a data pipeline to merge the beverage channel features available in the interface #2 with the transactional sales from interface #1.\n",
    "\n",
    "<i>Expected result: Data from both .CSV are merged correctly and can be grouped or transformed.</i>"
   ]
  },
  {
   "cell_type": "code",
   "execution_count": 3,
   "metadata": {},
   "outputs": [],
   "source": [
    "#Fazemos o import do dado de sales, que está com a codificação diferente de utf-8\n",
    "beverage_sales = spark.read.option(\"delimiter\", \"\\t\").option(\"encoding\", \"utf-16\").csv(\"data/abi_bus_case1_beverage_sales_20210726.csv\", header=True)\n",
    "#Nesse caso utf-16 retornou rows vazias, podemos deleta-las com base no char � que está presente em DATE\n",
    "beverage_sales = beverage_sales.filter(~col(\"DATE\").contains(\"�\"))\n",
    "#Removemos � que existe no fim de toda a string em PERIOD\n",
    "beverage_sales = beverage_sales.withColumn(\"PERIOD\", regexp_replace(col(\"PERIOD\").cast(\"string\"), \"�\", \"\"))\n",
    "\n",
    "\n",
    "#Fazemos o import do dado de feature dos channels\n",
    "beverage_features = spark.read.csv(\"data/abi_bus_case1_beverage_channel_group_20210726.csv\", header=True)"
   ]
  },
  {
   "cell_type": "code",
   "execution_count": 4,
   "metadata": {},
   "outputs": [
    {
     "name": "stdout",
     "output_type": "stream",
     "text": [
      "+--------+-------------+-----------+-------------------+------------------+--------------------+-------+------------+---------------+--------+----+-----+------+\n",
      "|    DATE|CE_BRAND_FLVR|   BRAND_NM|Btlr_Org_LVL_C_Desc|        CHNL_GROUP|     TRADE_CHNL_DESC|PKG_CAT|Pkg_Cat_Desc|    TSR_PCKG_NM|$ Volume|YEAR|MONTH|PERIOD|\n",
      "+--------+-------------+-----------+-------------------+------------------+--------------------+-------+------------+---------------+--------+----+-----+------+\n",
      "|1/1/2006|         3440|      LEMON|             CANADA|           LEISURE|         SPORT VENUE|   N20O|   20Z/600ML|  .591L NRP 24L|   22.48|2006|    1|     1|\n",
      "|1/1/2006|         3440|      LEMON|          NORTHEAST|            SUPERS|           SUPERETTE|   N20O|   20Z/600ML|    20Z NRP 24L|     100|2006|    1|     1|\n",
      "|1/1/2006|         3554| STRAWBERRY|          SOUTHEAST|         WORKPLACE|      PLANT / OFFICE|   N20O|   20Z/600ML|    20Z NRP 24L|   66.14|2006|    1|     1|\n",
      "|1/1/2006|         3441|  RASPBERRY|            MIDWEST| MASS MERCHANDISER|   MASS MERCHANDISER|   N20O|   20Z/600ML|    20Z NRP 24L|   222.5|2006|    1|     1|\n",
      "|1/1/2006|         3440|      LEMON|               WEST| MASS MERCHANDISER|   MASS MERCHANDISER|   N20O|   20Z/600ML|    20Z NRP 24L|   302.5|2006|    1|     1|\n",
      "|1/1/2006|         3440|      LEMON|            MIDWEST|OTHER SMALL STORES|LIQUOR/BEER/WINE/...|   N20O|   20Z/600ML|    20Z NRP 24L|      10|2006|    1|     1|\n",
      "|1/1/2006|         3441|  RASPBERRY|          SOUTHEAST|CONVENIENCE RETAIL|   CONVENIENCE STORE|   N56P|    500ML 6P|     .5L NRP 6P|   -4.22|2006|    1|     1|\n",
      "|1/1/2006|         3554| STRAWBERRY|             CANADA|      FOOD SERVICE|QUICK SERVICE RES...|   N20O|   20Z/600ML|  .591L NRP 24L|   59.95|2006|    1|     1|\n",
      "|1/1/2006|         3554| STRAWBERRY|          SOUTHWEST|            SUPERS|         SUPERMARKET|   N20O|   20Z/600ML|  20z NRP 24L S|     300|2006|    1|     1|\n",
      "|1/1/2006|         3554| STRAWBERRY|          SOUTHEAST|      FOOD SERVICE|QUICK SERVICE RES...|   N20O|   20Z/600ML|    20Z NRP 24L|      85|2006|    1|     1|\n",
      "|1/1/2006|         3441|  RASPBERRY|        GREAT LAKES|      FOOD SERVICE|QUICK SERVICE RES...|   N20O|   20Z/600ML|  20z NRP 24L S|     2.5|2006|    1|     1|\n",
      "|1/1/2006|         3440|      LEMON|        GREAT LAKES|OTHER SMALL STORES|           ALL OTHER|   N20O|   20Z/600ML|  20z NRP 24L S|     2.5|2006|    1|     1|\n",
      "|1/1/2006|         3554| STRAWBERRY|            MIDWEST|      FOOD SERVICE|OTHER EATING + DR...|   N20O|   20Z/600ML|    20Z NRP 24L|      45|2006|    1|     1|\n",
      "|1/1/2006|         3441|  RASPBERRY|               WEST|      FOOD SERVICE|          RESTAURANT|   N20O|   20Z/600ML|    20Z NRP 24L|     7.5|2006|    1|     1|\n",
      "|1/1/2006|         3441|  RASPBERRY|               WEST|            SUPERS|  HYPER-MERCHANDISER|   N20O|   20Z/600ML|    20Z NRP 24L|  396.87|2006|    1|     1|\n",
      "|1/1/2006|         3554| STRAWBERRY|        GREAT LAKES|       DRUG STORES|          DRUG STORE|   N56P|    500ML 6P|     .5L NRP 6P|   35.92|2006|    1|     1|\n",
      "|1/1/2006|         3554| STRAWBERRY|             CANADA|    TRANSPORTATION|      TRANSPORTATION|   N20O|   20Z/600ML|.591L NRP 24L *|   12.49|2006|    1|     1|\n",
      "|1/1/2006|         3441|  RASPBERRY|            MIDWEST|            SUPERS|  MILITARY-COMMISARY|   N56P|    500ML 6P|     .5L NRP 6P|   10.56|2006|    1|     1|\n",
      "|1/1/2006|         3554| STRAWBERRY|               WEST|       DRUG STORES|          DRUG STORE|   N20O|   20Z/600ML|    20Z NRP 24L|   152.5|2006|    1|     1|\n",
      "|1/1/2006|         3440|      LEMON|          SOUTHEAST|     MILITARY/GOVT|      MILITARY-OTHER|   N20O|   20Z/600ML|  20z NRP 24L S|    27.5|2006|    1|     1|\n",
      "+--------+-------------+-----------+-------------------+------------------+--------------------+-------+------------+---------------+--------+----+-----+------+\n",
      "only showing top 20 rows\n",
      "\n"
     ]
    }
   ],
   "source": [
    "beverage_sales.show()"
   ]
  },
  {
   "cell_type": "code",
   "execution_count": 5,
   "metadata": {},
   "outputs": [
    {
     "name": "stdout",
     "output_type": "stream",
     "text": [
      "+--------------------+----------------+---------------+\n",
      "|     TRADE_CHNL_DESC|TRADE_GROUP_DESC|TRADE_TYPE_DESC|\n",
      "+--------------------+----------------+---------------+\n",
      "|         SPORT VENUE|   ENTERTAINMENT|      ALCOHOLIC|\n",
      "|           SUPERETTE|        SERVICES|            MIX|\n",
      "|      PLANT / OFFICE|        SERVICES|            MIX|\n",
      "|   MASS MERCHANDISER|         GROCERY|            MIX|\n",
      "|LIQUOR/BEER/WINE/...|         GROCERY|      ALCOHOLIC|\n",
      "|   CONVENIENCE STORE|        SERVICES|            MIX|\n",
      "|QUICK SERVICE RES...|   ENTERTAINMENT|      ALCOHOLIC|\n",
      "|         SUPERMARKET|         GROCERY|            MIX|\n",
      "|           ALL OTHER|           OTHER|            MIX|\n",
      "|OTHER EATING + DR...|        SERVICES|            MIX|\n",
      "|          RESTAURANT|   ENTERTAINMENT|      ALCOHOLIC|\n",
      "|  HYPER-MERCHANDISER|         GROCERY|            MIX|\n",
      "|          DRUG STORE|         GROCERY|            MIX|\n",
      "|      TRANSPORTATION|        SERVICES|  NON ALCOHOLIC|\n",
      "|  MILITARY-COMMISARY|  GOV & MILITARY|            MIX|\n",
      "|      MILITARY-OTHER|  GOV & MILITARY|            MIX|\n",
      "|  COLLEGE/UNIVERSITY|        ACADEMIC|  NON ALCOHOLIC|\n",
      "|PRIMARY/SECONDARY...|        ACADEMIC|  NON ALCOHOLIC|\n",
      "|   HEALTH / HOSPITAL|        ACADEMIC|  NON ALCOHOLIC|\n",
      "|GENERAL MERCHANDISER|         GROCERY|            MIX|\n",
      "+--------------------+----------------+---------------+\n",
      "only showing top 20 rows\n",
      "\n"
     ]
    }
   ],
   "source": [
    "beverage_features.show()"
   ]
  },
  {
   "cell_type": "code",
   "execution_count": 6,
   "metadata": {},
   "outputs": [
    {
     "name": "stdout",
     "output_type": "stream",
     "text": [
      "+--------------------+--------+-------------+-----------+-------------------+------------------+-------+------------+---------------+--------+----+-----+------+----------------+---------------+\n",
      "|     TRADE_CHNL_DESC|    DATE|CE_BRAND_FLVR|   BRAND_NM|Btlr_Org_LVL_C_Desc|        CHNL_GROUP|PKG_CAT|Pkg_Cat_Desc|    TSR_PCKG_NM|$ Volume|YEAR|MONTH|PERIOD|TRADE_GROUP_DESC|TRADE_TYPE_DESC|\n",
      "+--------------------+--------+-------------+-----------+-------------------+------------------+-------+------------+---------------+--------+----+-----+------+----------------+---------------+\n",
      "|         SPORT VENUE|1/1/2006|         3440|      LEMON|             CANADA|           LEISURE|   N20O|   20Z/600ML|  .591L NRP 24L|   22.48|2006|    1|     1|   ENTERTAINMENT|      ALCOHOLIC|\n",
      "|           SUPERETTE|1/1/2006|         3440|      LEMON|          NORTHEAST|            SUPERS|   N20O|   20Z/600ML|    20Z NRP 24L|     100|2006|    1|     1|        SERVICES|            MIX|\n",
      "|      PLANT / OFFICE|1/1/2006|         3554| STRAWBERRY|          SOUTHEAST|         WORKPLACE|   N20O|   20Z/600ML|    20Z NRP 24L|   66.14|2006|    1|     1|        SERVICES|            MIX|\n",
      "|   MASS MERCHANDISER|1/1/2006|         3441|  RASPBERRY|            MIDWEST| MASS MERCHANDISER|   N20O|   20Z/600ML|    20Z NRP 24L|   222.5|2006|    1|     1|         GROCERY|            MIX|\n",
      "|   MASS MERCHANDISER|1/1/2006|         3440|      LEMON|               WEST| MASS MERCHANDISER|   N20O|   20Z/600ML|    20Z NRP 24L|   302.5|2006|    1|     1|         GROCERY|            MIX|\n",
      "|LIQUOR/BEER/WINE/...|1/1/2006|         3440|      LEMON|            MIDWEST|OTHER SMALL STORES|   N20O|   20Z/600ML|    20Z NRP 24L|      10|2006|    1|     1|         GROCERY|      ALCOHOLIC|\n",
      "|   CONVENIENCE STORE|1/1/2006|         3441|  RASPBERRY|          SOUTHEAST|CONVENIENCE RETAIL|   N56P|    500ML 6P|     .5L NRP 6P|   -4.22|2006|    1|     1|        SERVICES|            MIX|\n",
      "|QUICK SERVICE RES...|1/1/2006|         3554| STRAWBERRY|             CANADA|      FOOD SERVICE|   N20O|   20Z/600ML|  .591L NRP 24L|   59.95|2006|    1|     1|   ENTERTAINMENT|      ALCOHOLIC|\n",
      "|         SUPERMARKET|1/1/2006|         3554| STRAWBERRY|          SOUTHWEST|            SUPERS|   N20O|   20Z/600ML|  20z NRP 24L S|     300|2006|    1|     1|         GROCERY|            MIX|\n",
      "|QUICK SERVICE RES...|1/1/2006|         3554| STRAWBERRY|          SOUTHEAST|      FOOD SERVICE|   N20O|   20Z/600ML|    20Z NRP 24L|      85|2006|    1|     1|   ENTERTAINMENT|      ALCOHOLIC|\n",
      "|QUICK SERVICE RES...|1/1/2006|         3441|  RASPBERRY|        GREAT LAKES|      FOOD SERVICE|   N20O|   20Z/600ML|  20z NRP 24L S|     2.5|2006|    1|     1|   ENTERTAINMENT|      ALCOHOLIC|\n",
      "|           ALL OTHER|1/1/2006|         3440|      LEMON|        GREAT LAKES|OTHER SMALL STORES|   N20O|   20Z/600ML|  20z NRP 24L S|     2.5|2006|    1|     1|           OTHER|            MIX|\n",
      "|OTHER EATING + DR...|1/1/2006|         3554| STRAWBERRY|            MIDWEST|      FOOD SERVICE|   N20O|   20Z/600ML|    20Z NRP 24L|      45|2006|    1|     1|        SERVICES|            MIX|\n",
      "|          RESTAURANT|1/1/2006|         3441|  RASPBERRY|               WEST|      FOOD SERVICE|   N20O|   20Z/600ML|    20Z NRP 24L|     7.5|2006|    1|     1|   ENTERTAINMENT|      ALCOHOLIC|\n",
      "|  HYPER-MERCHANDISER|1/1/2006|         3441|  RASPBERRY|               WEST|            SUPERS|   N20O|   20Z/600ML|    20Z NRP 24L|  396.87|2006|    1|     1|         GROCERY|            MIX|\n",
      "|          DRUG STORE|1/1/2006|         3554| STRAWBERRY|        GREAT LAKES|       DRUG STORES|   N56P|    500ML 6P|     .5L NRP 6P|   35.92|2006|    1|     1|         GROCERY|            MIX|\n",
      "|      TRANSPORTATION|1/1/2006|         3554| STRAWBERRY|             CANADA|    TRANSPORTATION|   N20O|   20Z/600ML|.591L NRP 24L *|   12.49|2006|    1|     1|        SERVICES|  NON ALCOHOLIC|\n",
      "|  MILITARY-COMMISARY|1/1/2006|         3441|  RASPBERRY|            MIDWEST|            SUPERS|   N56P|    500ML 6P|     .5L NRP 6P|   10.56|2006|    1|     1|  GOV & MILITARY|            MIX|\n",
      "|          DRUG STORE|1/1/2006|         3554| STRAWBERRY|               WEST|       DRUG STORES|   N20O|   20Z/600ML|    20Z NRP 24L|   152.5|2006|    1|     1|         GROCERY|            MIX|\n",
      "|      MILITARY-OTHER|1/1/2006|         3440|      LEMON|          SOUTHEAST|     MILITARY/GOVT|   N20O|   20Z/600ML|  20z NRP 24L S|    27.5|2006|    1|     1|  GOV & MILITARY|            MIX|\n",
      "+--------------------+--------+-------------+-----------+-------------------+------------------+-------+------------+---------------+--------+----+-----+------+----------------+---------------+\n",
      "only showing top 20 rows\n",
      "\n"
     ]
    }
   ],
   "source": [
    "# Join the two DataFrames based on 'TRADE_CHNL_DESC'\n",
    "beverage_df = beverage_sales.join(beverage_features, on='TRADE_CHNL_DESC', how='inner')\n",
    "beverage_df.show()"
   ]
  },
  {
   "cell_type": "code",
   "execution_count": 7,
   "metadata": {},
   "outputs": [
    {
     "name": "stdout",
     "output_type": "stream",
     "text": [
      "+--------+-------------+-----------+-------------------+------------------+--------------------+-------+------------+---------------+--------+----+-----+------+----------------+---------------+\n",
      "|    DATE|CE_BRAND_FLVR|   BRAND_NM|Btlr_Org_LVL_C_Desc|        CHNL_GROUP|     TRADE_CHNL_DESC|PKG_CAT|Pkg_Cat_Desc|    TSR_PCKG_NM|$ Volume|YEAR|MONTH|PERIOD|TRADE_GROUP_DESC|TRADE_TYPE_DESC|\n",
      "+--------+-------------+-----------+-------------------+------------------+--------------------+-------+------------+---------------+--------+----+-----+------+----------------+---------------+\n",
      "|1/1/2006|         3440|      LEMON|             CANADA|           LEISURE|         SPORT VENUE|   N20O|   20Z/600ML|  .591L NRP 24L|   22.48|2006|    1|     1|   ENTERTAINMENT|      ALCOHOLIC|\n",
      "|1/1/2006|         3440|      LEMON|          NORTHEAST|            SUPERS|           SUPERETTE|   N20O|   20Z/600ML|    20Z NRP 24L|     100|2006|    1|     1|        SERVICES|            MIX|\n",
      "|1/1/2006|         3554| STRAWBERRY|          SOUTHEAST|         WORKPLACE|      PLANT / OFFICE|   N20O|   20Z/600ML|    20Z NRP 24L|   66.14|2006|    1|     1|        SERVICES|            MIX|\n",
      "|1/1/2006|         3441|  RASPBERRY|            MIDWEST| MASS MERCHANDISER|   MASS MERCHANDISER|   N20O|   20Z/600ML|    20Z NRP 24L|   222.5|2006|    1|     1|         GROCERY|            MIX|\n",
      "|1/1/2006|         3440|      LEMON|               WEST| MASS MERCHANDISER|   MASS MERCHANDISER|   N20O|   20Z/600ML|    20Z NRP 24L|   302.5|2006|    1|     1|         GROCERY|            MIX|\n",
      "|1/1/2006|         3440|      LEMON|            MIDWEST|OTHER SMALL STORES|LIQUOR/BEER/WINE/...|   N20O|   20Z/600ML|    20Z NRP 24L|      10|2006|    1|     1|         GROCERY|      ALCOHOLIC|\n",
      "|1/1/2006|         3441|  RASPBERRY|          SOUTHEAST|CONVENIENCE RETAIL|   CONVENIENCE STORE|   N56P|    500ML 6P|     .5L NRP 6P|   -4.22|2006|    1|     1|        SERVICES|            MIX|\n",
      "|1/1/2006|         3554| STRAWBERRY|             CANADA|      FOOD SERVICE|QUICK SERVICE RES...|   N20O|   20Z/600ML|  .591L NRP 24L|   59.95|2006|    1|     1|   ENTERTAINMENT|      ALCOHOLIC|\n",
      "|1/1/2006|         3554| STRAWBERRY|          SOUTHWEST|            SUPERS|         SUPERMARKET|   N20O|   20Z/600ML|  20z NRP 24L S|     300|2006|    1|     1|         GROCERY|            MIX|\n",
      "|1/1/2006|         3554| STRAWBERRY|          SOUTHEAST|      FOOD SERVICE|QUICK SERVICE RES...|   N20O|   20Z/600ML|    20Z NRP 24L|      85|2006|    1|     1|   ENTERTAINMENT|      ALCOHOLIC|\n",
      "|1/1/2006|         3441|  RASPBERRY|        GREAT LAKES|      FOOD SERVICE|QUICK SERVICE RES...|   N20O|   20Z/600ML|  20z NRP 24L S|     2.5|2006|    1|     1|   ENTERTAINMENT|      ALCOHOLIC|\n",
      "|1/1/2006|         3440|      LEMON|        GREAT LAKES|OTHER SMALL STORES|           ALL OTHER|   N20O|   20Z/600ML|  20z NRP 24L S|     2.5|2006|    1|     1|           OTHER|            MIX|\n",
      "|1/1/2006|         3554| STRAWBERRY|            MIDWEST|      FOOD SERVICE|OTHER EATING + DR...|   N20O|   20Z/600ML|    20Z NRP 24L|      45|2006|    1|     1|        SERVICES|            MIX|\n",
      "|1/1/2006|         3441|  RASPBERRY|               WEST|      FOOD SERVICE|          RESTAURANT|   N20O|   20Z/600ML|    20Z NRP 24L|     7.5|2006|    1|     1|   ENTERTAINMENT|      ALCOHOLIC|\n",
      "|1/1/2006|         3441|  RASPBERRY|               WEST|            SUPERS|  HYPER-MERCHANDISER|   N20O|   20Z/600ML|    20Z NRP 24L|  396.87|2006|    1|     1|         GROCERY|            MIX|\n",
      "|1/1/2006|         3554| STRAWBERRY|        GREAT LAKES|       DRUG STORES|          DRUG STORE|   N56P|    500ML 6P|     .5L NRP 6P|   35.92|2006|    1|     1|         GROCERY|            MIX|\n",
      "|1/1/2006|         3554| STRAWBERRY|             CANADA|    TRANSPORTATION|      TRANSPORTATION|   N20O|   20Z/600ML|.591L NRP 24L *|   12.49|2006|    1|     1|        SERVICES|  NON ALCOHOLIC|\n",
      "|1/1/2006|         3441|  RASPBERRY|            MIDWEST|            SUPERS|  MILITARY-COMMISARY|   N56P|    500ML 6P|     .5L NRP 6P|   10.56|2006|    1|     1|  GOV & MILITARY|            MIX|\n",
      "|1/1/2006|         3554| STRAWBERRY|               WEST|       DRUG STORES|          DRUG STORE|   N20O|   20Z/600ML|    20Z NRP 24L|   152.5|2006|    1|     1|         GROCERY|            MIX|\n",
      "|1/1/2006|         3440|      LEMON|          SOUTHEAST|     MILITARY/GOVT|      MILITARY-OTHER|   N20O|   20Z/600ML|  20z NRP 24L S|    27.5|2006|    1|     1|  GOV & MILITARY|            MIX|\n",
      "+--------+-------------+-----------+-------------------+------------------+--------------------+-------+------------+---------------+--------+----+-----+------+----------------+---------------+\n",
      "only showing top 20 rows\n",
      "\n"
     ]
    }
   ],
   "source": [
    "# executando o merge\n",
    "beverage_df = beverage_sales.join(beverage_features, beverage_sales[\"TRADE_CHNL_DESC\"] == beverage_features[\"TRADE_CHNL_DESC\"], 'inner')\n",
    "\n",
    "#dropando a coluna de join duplicada\n",
    "beverage_df = beverage_df.drop(beverage_features[\"TRADE_CHNL_DESC\"])\n",
    "\n",
    "beverage_df.show()"
   ]
  },
  {
   "cell_type": "markdown",
   "metadata": {},
   "source": [
    "2 - Implement a data ingestion pipeline for the beverage sales data using dimensional data modeling. The solution must contain \n",
    "dimensions (at least two), fact (at least one) and especially summary tables based on the data provided. \n",
    "\n",
    "Your approach should be able to answer most of the business questions based on the KPIs provided. \n",
    "\n",
    "Implement and perform all the transformations and aggregations you find important. \n",
    "\n",
    "Make sure you can understand and explain you design decisions for the fictional team members represented by the recruiters. \n",
    "    \n",
    "\n",
    "<i>Expected result: Physical data model implemented with 100% of data provided ingested</i>"
   ]
  },
  {
   "cell_type": "code",
   "execution_count": 8,
   "metadata": {},
   "outputs": [
    {
     "name": "stdout",
     "output_type": "stream",
     "text": [
      "+--------+-------------+-----------+-------------------+------------------+--------------------+-------+------------+---------------+--------+----+-----+------+----------------+---------------+\n",
      "|    DATE|CE_BRAND_FLVR|   BRAND_NM|Btlr_Org_LVL_C_Desc|        CHNL_GROUP|     TRADE_CHNL_DESC|PKG_CAT|Pkg_Cat_Desc|    TSR_PCKG_NM|$ Volume|YEAR|MONTH|PERIOD|TRADE_GROUP_DESC|TRADE_TYPE_DESC|\n",
      "+--------+-------------+-----------+-------------------+------------------+--------------------+-------+------------+---------------+--------+----+-----+------+----------------+---------------+\n",
      "|1/1/2006|         3440|      LEMON|             CANADA|           LEISURE|         SPORT VENUE|   N20O|   20Z/600ML|  .591L NRP 24L|   22.48|2006|    1|     1|   ENTERTAINMENT|      ALCOHOLIC|\n",
      "|1/1/2006|         3440|      LEMON|          NORTHEAST|            SUPERS|           SUPERETTE|   N20O|   20Z/600ML|    20Z NRP 24L|     100|2006|    1|     1|        SERVICES|            MIX|\n",
      "|1/1/2006|         3554| STRAWBERRY|          SOUTHEAST|         WORKPLACE|      PLANT / OFFICE|   N20O|   20Z/600ML|    20Z NRP 24L|   66.14|2006|    1|     1|        SERVICES|            MIX|\n",
      "|1/1/2006|         3441|  RASPBERRY|            MIDWEST| MASS MERCHANDISER|   MASS MERCHANDISER|   N20O|   20Z/600ML|    20Z NRP 24L|   222.5|2006|    1|     1|         GROCERY|            MIX|\n",
      "|1/1/2006|         3440|      LEMON|               WEST| MASS MERCHANDISER|   MASS MERCHANDISER|   N20O|   20Z/600ML|    20Z NRP 24L|   302.5|2006|    1|     1|         GROCERY|            MIX|\n",
      "|1/1/2006|         3440|      LEMON|            MIDWEST|OTHER SMALL STORES|LIQUOR/BEER/WINE/...|   N20O|   20Z/600ML|    20Z NRP 24L|      10|2006|    1|     1|         GROCERY|      ALCOHOLIC|\n",
      "|1/1/2006|         3554| STRAWBERRY|             CANADA|      FOOD SERVICE|QUICK SERVICE RES...|   N20O|   20Z/600ML|  .591L NRP 24L|   59.95|2006|    1|     1|   ENTERTAINMENT|      ALCOHOLIC|\n",
      "|1/1/2006|         3554| STRAWBERRY|          SOUTHWEST|            SUPERS|         SUPERMARKET|   N20O|   20Z/600ML|  20z NRP 24L S|     300|2006|    1|     1|         GROCERY|            MIX|\n",
      "|1/1/2006|         3554| STRAWBERRY|          SOUTHEAST|      FOOD SERVICE|QUICK SERVICE RES...|   N20O|   20Z/600ML|    20Z NRP 24L|      85|2006|    1|     1|   ENTERTAINMENT|      ALCOHOLIC|\n",
      "|1/1/2006|         3441|  RASPBERRY|        GREAT LAKES|      FOOD SERVICE|QUICK SERVICE RES...|   N20O|   20Z/600ML|  20z NRP 24L S|     2.5|2006|    1|     1|   ENTERTAINMENT|      ALCOHOLIC|\n",
      "|1/1/2006|         3440|      LEMON|        GREAT LAKES|OTHER SMALL STORES|           ALL OTHER|   N20O|   20Z/600ML|  20z NRP 24L S|     2.5|2006|    1|     1|           OTHER|            MIX|\n",
      "|1/1/2006|         3554| STRAWBERRY|            MIDWEST|      FOOD SERVICE|OTHER EATING + DR...|   N20O|   20Z/600ML|    20Z NRP 24L|      45|2006|    1|     1|        SERVICES|            MIX|\n",
      "|1/1/2006|         3441|  RASPBERRY|               WEST|      FOOD SERVICE|          RESTAURANT|   N20O|   20Z/600ML|    20Z NRP 24L|     7.5|2006|    1|     1|   ENTERTAINMENT|      ALCOHOLIC|\n",
      "|1/1/2006|         3441|  RASPBERRY|               WEST|            SUPERS|  HYPER-MERCHANDISER|   N20O|   20Z/600ML|    20Z NRP 24L|  396.87|2006|    1|     1|         GROCERY|            MIX|\n",
      "|1/1/2006|         3554| STRAWBERRY|        GREAT LAKES|       DRUG STORES|          DRUG STORE|   N56P|    500ML 6P|     .5L NRP 6P|   35.92|2006|    1|     1|         GROCERY|            MIX|\n",
      "|1/1/2006|         3554| STRAWBERRY|             CANADA|    TRANSPORTATION|      TRANSPORTATION|   N20O|   20Z/600ML|.591L NRP 24L *|   12.49|2006|    1|     1|        SERVICES|  NON ALCOHOLIC|\n",
      "|1/1/2006|         3441|  RASPBERRY|            MIDWEST|            SUPERS|  MILITARY-COMMISARY|   N56P|    500ML 6P|     .5L NRP 6P|   10.56|2006|    1|     1|  GOV & MILITARY|            MIX|\n",
      "|1/1/2006|         3554| STRAWBERRY|               WEST|       DRUG STORES|          DRUG STORE|   N20O|   20Z/600ML|    20Z NRP 24L|   152.5|2006|    1|     1|         GROCERY|            MIX|\n",
      "|1/1/2006|         3440|      LEMON|          SOUTHEAST|     MILITARY/GOVT|      MILITARY-OTHER|   N20O|   20Z/600ML|  20z NRP 24L S|    27.5|2006|    1|     1|  GOV & MILITARY|            MIX|\n",
      "|1/1/2006|         3440|      LEMON|          SOUTHEAST|         EDUCATION|  COLLEGE/UNIVERSITY|   N20O|   20Z/600ML|  20z NRP 24L S|    87.5|2006|    1|     1|        ACADEMIC|  NON ALCOHOLIC|\n",
      "+--------+-------------+-----------+-------------------+------------------+--------------------+-------+------------+---------------+--------+----+-----+------+----------------+---------------+\n",
      "only showing top 20 rows\n",
      "\n"
     ]
    }
   ],
   "source": [
    "# Limpeza e Transformação de Dados\n",
    "# Supondo que $ Volume não deve ser negativo, removemos registros com $ Volume negativo\n",
    "beverage_df = beverage_df.filter(col(\"$ Volume\") >= 0)\n",
    "beverage_df.show()"
   ]
  },
  {
   "cell_type": "code",
   "execution_count": 9,
   "metadata": {},
   "outputs": [
    {
     "name": "stdout",
     "output_type": "stream",
     "text": [
      "+---------+----+-----+------+\n",
      "|     DATE|YEAR|MONTH|PERIOD|\n",
      "+---------+----+-----+------+\n",
      "| 2/8/2006|2006|    2|     2|\n",
      "|2/22/2006|2006|    2|     4|\n",
      "| 1/8/2006|2006|    1|     2|\n",
      "|1/15/2006|2006|    1|     3|\n",
      "| 3/8/2006|2006|    3|     2|\n",
      "|3/15/2006|2006|    3|     3|\n",
      "| 2/1/2006|2006|    2|     1|\n",
      "|1/22/2006|2006|    1|     4|\n",
      "| 1/1/2006|2006|    1|     1|\n",
      "|3/22/2006|2006|    3|     4|\n",
      "|2/15/2006|2006|    2|     3|\n",
      "| 3/1/2006|2006|    3|     1|\n",
      "|3/29/2006|2006|    3|     5|\n",
      "+---------+----+-----+------+\n",
      "\n"
     ]
    }
   ],
   "source": [
    "# Criação de uma tabela dimensão de tempo\n",
    "time_dimension = beverage_df.select(\"DATE\", \"YEAR\", \"MONTH\", \"PERIOD\").distinct()\n",
    "time_dimension.show()"
   ]
  },
  {
   "cell_type": "code",
   "execution_count": 10,
   "metadata": {},
   "outputs": [
    {
     "name": "stdout",
     "output_type": "stream",
     "text": [
      "+-------------------+------------------+\n",
      "|Btlr_Org_LVL_C_Desc|        CHNL_GROUP|\n",
      "+-------------------+------------------+\n",
      "|        GREAT LAKES|         WORKPLACE|\n",
      "|            MIDWEST|       DRUG STORES|\n",
      "|          SOUTHEAST|         WORKPLACE|\n",
      "|          SOUTHEAST|       DRUG STORES|\n",
      "|          SOUTHWEST|         EDUCATION|\n",
      "|          NORTHEAST|      FOOD SERVICE|\n",
      "|             CANADA|    TRANSPORTATION|\n",
      "|          NORTHEAST|         WORKPLACE|\n",
      "|        GREAT LAKES|    TRANSPORTATION|\n",
      "|               WEST|CONVENIENCE RETAIL|\n",
      "|            MIDWEST|            SUPERS|\n",
      "|               WEST|            SUPERS|\n",
      "|          NORTHEAST|     MILITARY/GOVT|\n",
      "|          SOUTHWEST|       RETAIL COLD|\n",
      "|        GREAT LAKES|        HEALTHCARE|\n",
      "|          SOUTHEAST|            SUPERS|\n",
      "|          NORTHEAST|             CLUBS|\n",
      "|               WEST|         EDUCATION|\n",
      "|          SOUTHEAST|CONVENIENCE RETAIL|\n",
      "|        GREAT LAKES|CONVENIENCE RETAIL|\n",
      "+-------------------+------------------+\n",
      "only showing top 20 rows\n",
      "\n"
     ]
    }
   ],
   "source": [
    "# Criação de uma tabela dimensão de localidade\n",
    "location_dimension = beverage_df.select(\"Btlr_Org_LVL_C_Desc\", \"CHNL_GROUP\").distinct()\n",
    "location_dimension.show()"
   ]
  },
  {
   "cell_type": "code",
   "execution_count": 11,
   "metadata": {},
   "outputs": [
    {
     "name": "stdout",
     "output_type": "stream",
     "text": [
      "+-------------+-----------+-------+------------+---------------+\n",
      "|CE_BRAND_FLVR|   BRAND_NM|PKG_CAT|Pkg_Cat_Desc|    TSR_PCKG_NM|\n",
      "+-------------+-----------+-------+------------+---------------+\n",
      "|         3441|  RASPBERRY|   N56P|    500ML 6P|    .5L NRP 6P*|\n",
      "|         3697|      GRAPE|   N20O|   20Z/600ML|  20z NRP 24L S|\n",
      "|         3440|      LEMON|   N20O|   20Z/600ML|    20Z NRP 24L|\n",
      "|         3440|      LEMON|   N56P|    500ML 6P|    .5L NRP 6P*|\n",
      "|         3441|  RASPBERRY|   N20O|   20Z/600ML|.591L NRP 24L *|\n",
      "|         3441|  RASPBERRY|   N56P|    500ML 6P|   .5L NRP 6P S|\n",
      "|         3440|      LEMON|   N128|12Z/355M 8NR|   12Z NRP 8P F|\n",
      "|         3554| STRAWBERRY|   N56P|    500ML 6P|   .5L NRP 6P S|\n",
      "|         3554| STRAWBERRY|   N20O|   20Z/600ML|  20z NRP 24L S|\n",
      "|         3554| STRAWBERRY|   N20O|   20Z/600ML|.591L NRP 24L *|\n",
      "|         3554| STRAWBERRY|   N56P|    500ML 6P|     .5L NRP 6P|\n",
      "|         3440|      LEMON|   N56P|    500ML 6P|   .5L NRP 6P S|\n",
      "|         3440|      LEMON|   N20O|   20Z/600ML|  20z NRP 24L S|\n",
      "|         3554| STRAWBERRY|   N20O|   20Z/600ML|  .591L NRP 24L|\n",
      "|         3441|  RASPBERRY|   N56P|    500ML 6P|     .5L NRP 6P|\n",
      "|         3441|  RASPBERRY|   N20O|   20Z/600ML|    20Z NRP 24L|\n",
      "|         3441|  RASPBERRY|   N20O|   20Z/600ML|  20z NRP 24L S|\n",
      "|         3440|      LEMON|   N56P|    500ML 6P|     .5L NRP 6P|\n",
      "|         3441|  RASPBERRY|   N20O|   20Z/600ML|  .591L NRP 24L|\n",
      "|         3440|      LEMON|   N20O|   20Z/600ML|.591L NRP 24L *|\n",
      "+-------------+-----------+-------+------------+---------------+\n",
      "only showing top 20 rows\n",
      "\n"
     ]
    }
   ],
   "source": [
    "# Criação de uma tabela dimensão de produto\n",
    "product_dimension = beverage_df.select(\"CE_BRAND_FLVR\", \"BRAND_NM\", \"PKG_CAT\", \"Pkg_Cat_Desc\", \"TSR_PCKG_NM\").distinct()\n",
    "product_dimension.show()"
   ]
  },
  {
   "cell_type": "code",
   "execution_count": 12,
   "metadata": {},
   "outputs": [
    {
     "name": "stdout",
     "output_type": "stream",
     "text": [
      "+--------+-------------+-----------+-------------------+------------------+----------------+--------+\n",
      "|    DATE|CE_BRAND_FLVR|   BRAND_NM|Btlr_Org_LVL_C_Desc|        CHNL_GROUP|TRADE_GROUP_DESC|$ Volume|\n",
      "+--------+-------------+-----------+-------------------+------------------+----------------+--------+\n",
      "|1/1/2006|         3440|      LEMON|             CANADA|           LEISURE|   ENTERTAINMENT|   22.48|\n",
      "|1/1/2006|         3440|      LEMON|          NORTHEAST|            SUPERS|        SERVICES|     100|\n",
      "|1/1/2006|         3554| STRAWBERRY|          SOUTHEAST|         WORKPLACE|        SERVICES|   66.14|\n",
      "|1/1/2006|         3441|  RASPBERRY|            MIDWEST| MASS MERCHANDISER|         GROCERY|   222.5|\n",
      "|1/1/2006|         3440|      LEMON|               WEST| MASS MERCHANDISER|         GROCERY|   302.5|\n",
      "|1/1/2006|         3440|      LEMON|            MIDWEST|OTHER SMALL STORES|         GROCERY|      10|\n",
      "|1/1/2006|         3554| STRAWBERRY|             CANADA|      FOOD SERVICE|   ENTERTAINMENT|   59.95|\n",
      "|1/1/2006|         3554| STRAWBERRY|          SOUTHWEST|            SUPERS|         GROCERY|     300|\n",
      "|1/1/2006|         3554| STRAWBERRY|          SOUTHEAST|      FOOD SERVICE|   ENTERTAINMENT|      85|\n",
      "|1/1/2006|         3441|  RASPBERRY|        GREAT LAKES|      FOOD SERVICE|   ENTERTAINMENT|     2.5|\n",
      "|1/1/2006|         3440|      LEMON|        GREAT LAKES|OTHER SMALL STORES|           OTHER|     2.5|\n",
      "|1/1/2006|         3554| STRAWBERRY|            MIDWEST|      FOOD SERVICE|        SERVICES|      45|\n",
      "|1/1/2006|         3441|  RASPBERRY|               WEST|      FOOD SERVICE|   ENTERTAINMENT|     7.5|\n",
      "|1/1/2006|         3441|  RASPBERRY|               WEST|            SUPERS|         GROCERY|  396.87|\n",
      "|1/1/2006|         3554| STRAWBERRY|        GREAT LAKES|       DRUG STORES|         GROCERY|   35.92|\n",
      "|1/1/2006|         3554| STRAWBERRY|             CANADA|    TRANSPORTATION|        SERVICES|   12.49|\n",
      "|1/1/2006|         3441|  RASPBERRY|            MIDWEST|            SUPERS|  GOV & MILITARY|   10.56|\n",
      "|1/1/2006|         3554| STRAWBERRY|               WEST|       DRUG STORES|         GROCERY|   152.5|\n",
      "|1/1/2006|         3440|      LEMON|          SOUTHEAST|     MILITARY/GOVT|  GOV & MILITARY|    27.5|\n",
      "|1/1/2006|         3440|      LEMON|          SOUTHEAST|         EDUCATION|        ACADEMIC|    87.5|\n",
      "+--------+-------------+-----------+-------------------+------------------+----------------+--------+\n",
      "only showing top 20 rows\n",
      "\n"
     ]
    }
   ],
   "source": [
    "# Criação de uma tabela fato de vendas\n",
    "fact_table = beverage_df.select(\"DATE\", \"CE_BRAND_FLVR\", \"BRAND_NM\", \"Btlr_Org_LVL_C_Desc\", \"CHNL_GROUP\",\n",
    "                                \"TRADE_GROUP_DESC\", \"$ Volume\")\n",
    "fact_table.show()"
   ]
  },
  {
   "cell_type": "code",
   "execution_count": 13,
   "metadata": {},
   "outputs": [
    {
     "name": "stdout",
     "output_type": "stream",
     "text": [
      "+-------------------+----------------+-----------+\n",
      "|Btlr_Org_LVL_C_Desc|TRADE_GROUP_DESC|TotalVolume|\n",
      "+-------------------+----------------+-----------+\n",
      "|             CANADA|         GROCERY|  168703.45|\n",
      "|             CANADA|        SERVICES|   83758.62|\n",
      "|             CANADA|        ACADEMIC|    53126.0|\n",
      "|             CANADA|   ENTERTAINMENT|   38697.67|\n",
      "|             CANADA|  GOV & MILITARY|    1249.55|\n",
      "|             CANADA|           OTHER|     972.83|\n",
      "|        GREAT LAKES|         GROCERY|  380326.41|\n",
      "|        GREAT LAKES|        SERVICES|  157807.08|\n",
      "|        GREAT LAKES|        ACADEMIC|  152047.23|\n",
      "|        GREAT LAKES|   ENTERTAINMENT|   46100.78|\n",
      "|        GREAT LAKES|           OTHER|    3446.45|\n",
      "|        GREAT LAKES|  GOV & MILITARY|    3102.27|\n",
      "|            MIDWEST|         GROCERY|  326444.71|\n",
      "|            MIDWEST|        SERVICES|  129269.54|\n",
      "|            MIDWEST|        ACADEMIC|   88605.37|\n",
      "|            MIDWEST|   ENTERTAINMENT|   54127.19|\n",
      "|            MIDWEST|           OTHER|    3142.36|\n",
      "|            MIDWEST|  GOV & MILITARY|    2081.23|\n",
      "|          NORTHEAST|         GROCERY|  403748.11|\n",
      "|          NORTHEAST|        SERVICES|  156027.64|\n",
      "+-------------------+----------------+-----------+\n",
      "only showing top 20 rows\n",
      "\n"
     ]
    }
   ],
   "source": [
    "# Métricas agregadas para a tabela de resumo\n",
    "summary_table = fact_table.groupBy(\"Btlr_Org_LVL_C_Desc\", \"TRADE_GROUP_DESC\").agg(round(sum(\"$ Volume\"), 2).alias(\"TotalVolume\")).orderBy(\"Btlr_Org_LVL_C_Desc\", col(\"TotalVolume\").desc())\n",
    "summary_table.show()"
   ]
  },
  {
   "cell_type": "markdown",
   "metadata": {},
   "source": [
    "3 - What are the next steps, enhancements and future features that could be added to your solution after the MVP?\n",
    "<i>Expected result: List of items with enhancements and features expected in the feature to improve proposed MVP.</i>\n"
   ]
  },
  {
   "cell_type": "markdown",
   "metadata": {},
   "source": [
    "1. **Melhoria na Qualidade dos Dados:**\n",
    "   - Tratar de forma mais robusta valores ausentes ou inválidos, e tratamento de possíveis outliers.\n",
    "\n",
    "2. **Visualização de Dados:**\n",
    "   - Desenvolver um painel de controle usando ferramentas de visualização como Tableau ou Power BI.\n",
    "   - Criar gráficos interativos para facilitar a exploração dos dados.\n",
    "\n",
    "3. **Integração com ML:**\n",
    "   - Explorar a incorporação de modelos de aprendizado de máquina para análises preditivas.\n",
    "   - Treinar modelos para prever tendências futuras com base nos dados históricos.\n",
    "\n",
    "4. **Integração com cloud:**\n",
    "   - Integrar com a Azure para fazer esse ETL em tempo real, ou em intervalos determinados, de maneira automatizada."
   ]
  },
  {
   "cell_type": "markdown",
   "metadata": {},
   "source": [
    "4 - Create queries/scripts that can answer following business questions using the data structure created:\n",
    "Expected result: Data processes and results.\n",
    "\n",
    "&nbsp;&rarr;4.1 What are the Top 3 Trade Groups (TRADE_GROUP_DESC) for each Region (Btlr_Org_LVL_C_Desc) in sales ($ Volume)?\n",
    "\n",
    "&nbsp;&rarr;4.2 How much sales ($ Volume) each brand (BRAND_NM) achieved per month?\n",
    "\n",
    "&nbsp;&rarr;4.3 Which are the lowest brand (BRAND_NM) in sales ($ Volume) for each region (Btlr_Org_LVL_C_Desc)?\n",
    "\n",
    "<i>Important: The queries/scripts need to be based on your MVP created in item #2, not the source files.</i>"
   ]
  },
  {
   "cell_type": "code",
   "execution_count": 17,
   "metadata": {},
   "outputs": [
    {
     "name": "stdout",
     "output_type": "stream",
     "text": [
      "+-------------------+----------------+-----------+\n",
      "|Btlr_Org_LVL_C_Desc|TRADE_GROUP_DESC|TotalVolume|\n",
      "+-------------------+----------------+-----------+\n",
      "|             CANADA|         GROCERY|  168703.45|\n",
      "|             CANADA|        SERVICES|   83758.62|\n",
      "|             CANADA|        ACADEMIC|    53126.0|\n",
      "|        GREAT LAKES|         GROCERY|  380326.41|\n",
      "|        GREAT LAKES|        SERVICES|  157807.08|\n",
      "|        GREAT LAKES|        ACADEMIC|  152047.23|\n",
      "|            MIDWEST|         GROCERY|  326444.71|\n",
      "|            MIDWEST|        SERVICES|  129269.54|\n",
      "|            MIDWEST|        ACADEMIC|   88605.37|\n",
      "|          NORTHEAST|         GROCERY|  403748.11|\n",
      "|          NORTHEAST|        SERVICES|  156027.64|\n",
      "|          NORTHEAST|        ACADEMIC|  149591.89|\n",
      "|          SOUTHEAST|         GROCERY|  416674.35|\n",
      "|          SOUTHEAST|        SERVICES|  225958.15|\n",
      "|          SOUTHEAST|        ACADEMIC|  126047.84|\n",
      "|          SOUTHWEST|         GROCERY|  271838.33|\n",
      "|          SOUTHWEST|        SERVICES|  156488.99|\n",
      "|          SOUTHWEST|        ACADEMIC|    76775.8|\n",
      "|               WEST|         GROCERY|  206097.88|\n",
      "|               WEST|        SERVICES|   87982.38|\n",
      "|               WEST|        ACADEMIC|   79397.42|\n",
      "+-------------------+----------------+-----------+\n",
      "\n"
     ]
    }
   ],
   "source": [
    "#4.1\n",
    "# Criando uma especificação de janela\n",
    "window_spec = Window.partitionBy(\"Btlr_Org_LVL_C_Desc\").orderBy(col(\"TotalVolume\").desc())\n",
    "\n",
    "# Adicionando uma coluna de classificação\n",
    "ranked_summary = summary_table.withColumn(\"rank\", row_number().over(window_spec))\n",
    "\n",
    "# Filtrando para obter os 3 melhores para cada região\n",
    "top3_trade_groups = ranked_summary.filter(col(\"rank\") <= 3).drop(\"rank\")\n",
    "\n",
    "# Mostrar o resultado\n",
    "top3_trade_groups.show(30)"
   ]
  },
  {
   "cell_type": "code",
   "execution_count": 15,
   "metadata": {},
   "outputs": [
    {
     "name": "stdout",
     "output_type": "stream",
     "text": [
      "+----+-----+-----------+-----------+\n",
      "|YEAR|MONTH|   BRAND_NM|TotalVolume|\n",
      "+----+-----+-----------+-----------+\n",
      "|2006|    1|      LEMON|   506459.5|\n",
      "|2006|    1|  RASPBERRY|  393934.66|\n",
      "|2006|    1| STRAWBERRY|  315945.67|\n",
      "|2006|    2|      LEMON|   551533.2|\n",
      "|2006|    2|  RASPBERRY|  410000.11|\n",
      "|2006|    2| STRAWBERRY|  345737.67|\n",
      "|2006|    3|      LEMON|  766466.77|\n",
      "|2006|    3|  RASPBERRY|  587952.64|\n",
      "|2006|    3| STRAWBERRY|  475427.74|\n",
      "|2006|    3|      GRAPE|        7.5|\n",
      "+----+-----+-----------+-----------+\n",
      "\n"
     ]
    }
   ],
   "source": [
    "#4.2\n",
    "# Juntando fact_table e time_dimension na coluna 'DATE'\n",
    "joined_table = fact_table.join(time_dimension, \"DATE\")\n",
    "\n",
    "# Groupby por 'YEAR', 'MONTH', 'BRAND_NM' e calculando a soma de '$ Volume'\n",
    "brand_monthly_sales = joined_table.groupBy(\"YEAR\", \"MONTH\", \"BRAND_NM\").agg(round(sum(\"$ Volume\"), 2).alias(\"TotalVolume\"))\n",
    "\n",
    "# Ordenando o resultado\n",
    "brand_monthly_sales = brand_monthly_sales.orderBy(\"YEAR\", \"MONTH\", col(\"TotalVolume\").desc())\n",
    "\n",
    "# Mostrando o resultado\n",
    "brand_monthly_sales.show()"
   ]
  },
  {
   "cell_type": "code",
   "execution_count": 16,
   "metadata": {},
   "outputs": [
    {
     "name": "stdout",
     "output_type": "stream",
     "text": [
      "+-------------------+-----------+-----------+\n",
      "|Btlr_Org_LVL_C_Desc|   BRAND_NM|TotalVolume|\n",
      "+-------------------+-----------+-----------+\n",
      "|             CANADA| STRAWBERRY|   74109.49|\n",
      "|        GREAT LAKES| STRAWBERRY|  208833.03|\n",
      "|            MIDWEST| STRAWBERRY|  149226.55|\n",
      "|          NORTHEAST| STRAWBERRY|  195638.73|\n",
      "|          SOUTHEAST|  RASPBERRY|  224007.46|\n",
      "|          SOUTHWEST|      GRAPE|        7.5|\n",
      "|               WEST| STRAWBERRY|   134794.2|\n",
      "+-------------------+-----------+-----------+\n",
      "\n"
     ]
    }
   ],
   "source": [
    "#4.3\n",
    "# Groupby de 'Btlr_Org_LVL_C_Desc', 'BRAND_NM' e calculando a soma de '$ Volume'\n",
    "region_brand_sales = fact_table.groupBy(\"Btlr_Org_LVL_C_Desc\", \"BRAND_NM\").agg(round(sum(\"$ Volume\"), 2).alias(\"TotalVolume\"))\n",
    "\n",
    "# Usando a função de janela para classificar as marcas dentro de cada região com base em TotalVolume\n",
    "window_spec = Window.partitionBy(\"Btlr_Org_LVL_C_Desc\").orderBy(col(\"TotalVolume\"))\n",
    "\n",
    "# Adicionando uma coluna de classificação\n",
    "ranked_brands = region_brand_sales.withColumn(\"rank\", row_number().over(window_spec))\n",
    "\n",
    "# Filtrando para obter a marca mais baixa para cada região\n",
    "lowest_brand_by_region = ranked_brands.filter(col(\"rank\") == 1).drop(\"rank\")\n",
    "\n",
    "# Ordenando o resultado\n",
    "lowest_brand_by_region = lowest_brand_by_region.orderBy(\"Btlr_Org_LVL_C_Desc\", col(\"TotalVolume\").asc())\n",
    "\n",
    "# Mostrando o resultado\n",
    "lowest_brand_by_region.show()"
   ]
  }
 ],
 "metadata": {
  "kernelspec": {
   "display_name": "base",
   "language": "python",
   "name": "python3"
  },
  "language_info": {
   "codemirror_mode": {
    "name": "ipython",
    "version": 3
   },
   "file_extension": ".py",
   "mimetype": "text/x-python",
   "name": "python",
   "nbconvert_exporter": "python",
   "pygments_lexer": "ipython3",
   "version": "3.11.5"
  }
 },
 "nbformat": 4,
 "nbformat_minor": 2
}
